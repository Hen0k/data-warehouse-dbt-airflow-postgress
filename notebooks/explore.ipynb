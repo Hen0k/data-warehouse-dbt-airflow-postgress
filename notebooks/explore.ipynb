{
 "cells": [
  {
   "cell_type": "code",
   "execution_count": 1,
   "metadata": {},
   "outputs": [],
   "source": [
    "import sys\n",
    "sys.path.append(\"../scripts/\")"
   ]
  },
  {
   "cell_type": "code",
   "execution_count": 2,
   "metadata": {},
   "outputs": [],
   "source": [
    "from data_reader import DataReader"
   ]
  },
  {
   "cell_type": "code",
   "execution_count": 4,
   "metadata": {},
   "outputs": [
    {
     "name": "stdout",
     "output_type": "stream",
     "text": [
      "vehicle dataframe\n",
      "                       uid  track_id        type  traveled_distance  avg_speed\n",
      "0  20181030_d5_0930_1000_0         1         Car             220.79  10.349414\n",
      "1  20181030_d5_0930_1000_1         2  Motorcycle             314.34  18.860369\n",
      "2  20181030_d5_0930_1000_2         3         Car             252.43  15.832135\n",
      "3  20181030_d5_0930_1000_3         4         Car             217.79  12.212515\n",
      "4  20181030_d5_0930_1000_4         5         Car              22.15  23.448971\n",
      "<class 'pandas.core.frame.DataFrame'>\n",
      "RangeIndex: 3060 entries, 0 to 3059\n",
      "Data columns (total 5 columns):\n",
      " #   Column             Non-Null Count  Dtype  \n",
      "---  ------             --------------  -----  \n",
      " 0   uid                3060 non-null   object \n",
      " 1   track_id           3060 non-null   int64  \n",
      " 2   type               3060 non-null   object \n",
      " 3   traveled_distance  3060 non-null   float64\n",
      " 4   avg_speed          3060 non-null   float64\n",
      "dtypes: float64(2), int64(1), object(2)\n",
      "memory usage: 119.7+ KB\n",
      "None\n",
      "trajectories dataframe\n",
      "                       uid        lat        lon    speed  lon_acc  lat_acc  \\\n",
      "0  20181030_d5_0930_1000_0  37.983412  23.730346  22.4007  -0.0016  -0.0890   \n",
      "1  20181030_d5_0930_1000_0  37.983413  23.730345  22.4006   0.0004  -0.1029   \n",
      "2  20181030_d5_0930_1000_0  37.983415  23.730343  22.4007   0.0016  -0.1168   \n",
      "3  20181030_d5_0930_1000_0  37.983417  23.730342  22.4010   0.0028  -0.1308   \n",
      "4  20181030_d5_0930_1000_0  37.983419  23.730340  22.4016   0.0051  -0.1450   \n",
      "\n",
      "   time  \n",
      "0  0.00  \n",
      "1  0.04  \n",
      "2  0.08  \n",
      "3  0.12  \n",
      "4  0.16  \n",
      "<class 'pandas.core.frame.DataFrame'>\n",
      "RangeIndex: 6209075 entries, 0 to 6209074\n",
      "Data columns (total 7 columns):\n",
      " #   Column   Dtype  \n",
      "---  ------   -----  \n",
      " 0   uid      object \n",
      " 1   lat      float64\n",
      " 2   lon      float64\n",
      " 3   speed    float64\n",
      " 4   lon_acc  float64\n",
      " 5   lat_acc  float64\n",
      " 6   time     float64\n",
      "dtypes: float64(6), object(1)\n",
      "memory usage: 331.6+ MB\n",
      "None\n"
     ]
    }
   ],
   "source": [
    "reader = DataReader(file_path=\"../data/20181030_d5_0930_1000.csv\")\n",
    "vehicle_df, trajectories_df = reader.get_dfs(v=1)"
   ]
  },
  {
   "cell_type": "code",
   "execution_count": null,
   "metadata": {},
   "outputs": [],
   "source": []
  }
 ],
 "metadata": {
  "kernelspec": {
   "display_name": "Python 3.10.4 ('venv': venv)",
   "language": "python",
   "name": "python3"
  },
  "language_info": {
   "codemirror_mode": {
    "name": "ipython",
    "version": 3
   },
   "file_extension": ".py",
   "mimetype": "text/x-python",
   "name": "python",
   "nbconvert_exporter": "python",
   "pygments_lexer": "ipython3",
   "version": "3.10.4"
  },
  "orig_nbformat": 4,
  "vscode": {
   "interpreter": {
    "hash": "15261e2cba1419e7524ea21037e9a7ea26283ec2917fb8aee03a913324c6b2e3"
   }
  }
 },
 "nbformat": 4,
 "nbformat_minor": 2
}
